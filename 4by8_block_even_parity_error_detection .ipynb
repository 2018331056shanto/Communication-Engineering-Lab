{
  "nbformat": 4,
  "nbformat_minor": 0,
  "metadata": {
    "colab": {
      "name": "4by8_block_even_parity_error_detection.ipynb",
      "provenance": []
    },
    "kernelspec": {
      "name": "python3",
      "display_name": "Python 3"
    },
    "language_info": {
      "name": "python"
    }
  },
  "cells": [
    {
      "cell_type": "markdown",
      "source": [
        "# 4 * 8 Block Even Parity Error Detection\n",
        "\n",
        "### Reg:2018331056\n",
        "\n",
        "### Parity Checking of Error Detection\n",
        "\n",
        "**Even parity** -- Even parity means the number of 1's in the given word including the parity bit should be even (2,4,6,....).\n",
        "\n",
        "**Odd parity** -- Odd parity means the number of 1's in the given word including the parity bit should be odd (1,3,5,....).\n",
        "\n",
        "### How Does Error Detection Take Place\n",
        "Parity checking at the receiver can detect the presence of an error if the parity of the receiver signal is different from the expected parity. That means, if it is known that the parity of the transmitted signal is always going to be \"even\" and if the received signal has an odd parity, then the receiver can conclude that the received signal is not correct. If an error is detected, then the receiver will ignore the received byte and request for retransmission of the same byte to the transmitter.\n",
        "\n",
        "### TWO DIMENSIONAL PARITY: WORKING\n",
        "![2par3-300x267.png](data:image/png;base64,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)\n",
        "\n"
      ],
      "metadata": {
        "id": "3w64ugavSfCb"
      }
    },
    {
      "cell_type": "markdown",
      "source": [
        "## Encode"
      ],
      "metadata": {
        "id": "XmnoL4_bTD0K"
      }
    },
    {
      "cell_type": "code",
      "execution_count": 11,
      "metadata": {
        "colab": {
          "base_uri": "https://localhost:8080/"
        },
        "id": "bvQ8vxi5aiAs",
        "outputId": "45fc749e-4a4c-4ae9-dcbf-dc3760bc440b"
      },
      "outputs": [
        {
          "output_type": "stream",
          "name": "stdout",
          "text": [
            "Enter data :1 0 1 1 1 1 1 1\n",
            "Enter data :0 0 1 1 1 1 1 1\n",
            "Enter data :1 0 1 1 1 1 1 1\n",
            "Enter data :1 0 1 1 1 1 0 1\n",
            "[[1, 0, 1, 1, 1, 1, 1, 1, 1], [0, 0, 1, 1, 1, 1, 1, 1, 0], [1, 0, 1, 1, 1, 1, 1, 1, 1], [1, 0, 1, 1, 1, 1, 0, 1, 0]]\n",
            "[[1, 0, 1, 1, 1, 1, 1, 1, 1], [0, 0, 1, 1, 1, 1, 1, 1, 0], [1, 0, 1, 1, 1, 1, 1, 1, 1], [1, 0, 1, 1, 1, 1, 0, 1, 0], [1, 0, 0, 0, 0, 0, 1, 0, 0]]\n"
          ]
        }
      ],
      "source": [
        "def encodeWord(word):\n",
        "  matrix=[]\n",
        "  matrix1=[]\n",
        "  for row in word:\n",
        "    exRow=row\n",
        "    # print(\"ex row \",exRow)\n",
        "    c=0\n",
        "    for j in row:\n",
        "      c=c^j\n",
        "    exRow.append(c)\n",
        "    matrix.append(exRow)\n",
        "  print(matrix)\n",
        "  word=matrix\n",
        "  # print(word)\n",
        "  exCol=[]\n",
        "  for i in range(len(matrix[0])):\n",
        "    c=0\n",
        "    for j in range(len(matrix)):\n",
        "      # print(matrix[j][i])\n",
        "      c=c^matrix[j][i]\n",
        "    if c%2==1:\n",
        "      exCol.append(1)\n",
        "    else:\n",
        "      exCol.append(0)\n",
        "    # print(exCol)\n",
        "  # print(exCol)\n",
        "  word.append(exCol)\n",
        "  return word\n",
        "  # print(word)\n",
        "\n",
        "\n",
        "\n",
        "\n",
        "\n",
        "dataWord=[]\n",
        "for row  in range(4):\n",
        "  x=list(map(int,input(\"Enter data :\").strip().split()))\n",
        "\n",
        "  dataWord.append(x)\n",
        "\n",
        "\n",
        "\n",
        "# print(dataWord)\n",
        "\n",
        "\n",
        "encode=encodeWord(dataWord)\n",
        "print(encode)\n",
        "# print(en)\n",
        "# 1 0 1 1 1 1 1 1\n",
        "# 0 0 1 1 1 1 1 1\n",
        "# 1 0 1 1 1 1 1 1\n",
        "# 1 0 1 1 1 1 0 1"
      ]
    },
    {
      "cell_type": "markdown",
      "source": [
        "## Decode"
      ],
      "metadata": {
        "id": "mPUtTV-rX8oy"
      }
    },
    {
      "cell_type": "code",
      "source": [
        "def decodeWord(word):\n",
        "  \n",
        "  for row in word:\n",
        "    c=0\n",
        "    for y in row:\n",
        "     c=c^y\n",
        "    \n",
        "    if c==1:\n",
        "      return False\n",
        "  \n",
        "  for col in range(len(word[0])):\n",
        "    c=0\n",
        "    for row in range(len(word)):\n",
        "      \n",
        "      c^=word[row][col]\n",
        "    if c==1:\n",
        "      return False\n",
        "  return True\n",
        "\n",
        "\n",
        "\n",
        "decode=decodeWord(encode)\n",
        "print(\"is it correct :\",decode)"
      ],
      "metadata": {
        "colab": {
          "base_uri": "https://localhost:8080/"
        },
        "id": "MQdLRdKlTCE-",
        "outputId": "9ebbb36f-87a8-4503-89ed-fbc4e2246c6f"
      },
      "execution_count": 13,
      "outputs": [
        {
          "output_type": "stream",
          "name": "stdout",
          "text": [
            "is it correct : True\n"
          ]
        }
      ]
    }
  ]
}