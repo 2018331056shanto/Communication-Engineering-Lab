{
  "nbformat": 4,
  "nbformat_minor": 0,
  "metadata": {
    "colab": {
      "name": "CRC.ipynb",
      "provenance": [],
      "collapsed_sections": []
    },
    "kernelspec": {
      "name": "python3",
      "display_name": "Python 3"
    },
    "language_info": {
      "name": "python"
    }
  },
  "cells": [
    {
      "cell_type": "markdown",
      "source": [
        "# CRC (Cyclic Redundancy Code) error detection model.\n",
        "### 1. Write a program to implement a CRC (Cyclic Redundancy Code) error detection model.\n",
        "\n",
        "### **Reg:2018331056**\n",
        "**Encode Function :**\n",
        "Encode the data to send to the reciever.\n",
        "Params: word (the data we want to encode) , divisor (the key to use encode the data)\n",
        "Returns the codeword (The encoded data)\n",
        "\n",
        "## How it works\n",
        "\n",
        "**input data:** 11010011101100\n",
        "\n",
        "This is first padded with zeros corresponding to the bit length n of the CRC. This is done so that the resulting code word is in systematic form. Here is the first calculation for computing a 3-bit CRC:\n",
        "\n",
        "11010011101100 000 <--- input right padded by 3 bits\n",
        "------------------\n",
        "1011               <--- divisor (4 bits) = x³ + x + 1\n",
        "------------------\n",
        "01100011101100 000 <--- result\n",
        "------------------\n",
        "\n",
        "#### The algorithm acts on the bits directly above the divisor in each step. The result for that iteration is the bitwise XOR of the polynomial divisor with the bits above it. The bits not above the divisor are simply copied directly below for that step. The divisor is then shifted right to align with the highest remaining 1 bit in the input, and the process is repeated until the divisor reaches the right-hand end of the input row. Here is the entire calculation:\n",
        "\n",
        "11010011101100 000 <--- input right padded by 3 bits\n",
        "----------\n",
        "1011               <--- divisor\n",
        "------\n",
        "01100011101100 000 <--- result \n",
        "---------- \n",
        "..1011              <--- divisor ...\n",
        " --------\n",
        "00111011101100 000\n",
        "----------\n",
        ".....1011\n",
        "---------\n",
        "00010111101100 000\n",
        "------------\n",
        ".......1011\n",
        "   --------\n",
        "00000001101100 000 \n",
        "-----------\n",
        "...............1011   \n",
        "-----------          \n",
        "00000000110100 000\n",
        "----------------\n",
        ".................1011\n",
        "-----------\n",
        "00000000011000 000\n",
        "-------------\n",
        "...................1011\n",
        "------------\n",
        "00000000001110 000\n",
        "---------------------\n",
        ".....................1011\n",
        "----------------\n",
        "00000000000101 000\n",
        "---------------\n",
        "........................101 1\n",
        "------------\n",
        "\n",
        "00000000000000 100 <--- remainder (3 bits).  Division algorithm stops\n",
        "-----------\n",
        " here as dividend is equal to zero.\n",
        " -----------\n",
        "\n",
        "\n",
        "\n"
      ],
      "metadata": {
        "id": "1BSpc1z0UmZJ"
      }
    },
    {
      "cell_type": "code",
      "execution_count": 1,
      "metadata": {
        "colab": {
          "base_uri": "https://localhost:8080/"
        },
        "id": "HTJXZtafcdFL",
        "outputId": "6008dbe7-d3aa-434f-b965-7b8d2ecad97a"
      },
      "outputs": [
        {
          "output_type": "stream",
          "name": "stdout",
          "text": [
            "Enter Input Dataword ::11010011101100\n",
            "Enter key word: 1011\n",
            "encoded word [':', '0', '0', '0', '0', '0', '0', '0', '0', '0', '0', '0', '0', '0', '0', '1', '0', '0']\n"
          ]
        }
      ],
      "source": [
        "def encodeWord(dataWord,key):\n",
        "  code=dataWord.ljust(len(dataWord)+len(key)-1,\"0\")\n",
        "  code=list(code)\n",
        "  \n",
        "  # print(code)\n",
        "  ans=[]\n",
        "  for i in range(len(code)):\n",
        "    # print(\"hello\")\n",
        "    sz=len(key)\n",
        "    if code[i]=='1' and i+len(key)<=len(code):\n",
        "      temp=code[i:i+sz]\n",
        "      \n",
        "      for j in range(len(temp)):\n",
        "        code[i+j]=str(int(code[i+j])^int(key[j]))\n",
        "       \n",
        "  return code\n",
        "\n",
        "\n",
        "\n",
        "dataWord=input(\"Enter Input Dataword :\")\n",
        "key=input(\"Enter key word: \")\n",
        "\n",
        "encode=encodeWord(dataWord,key)\n",
        "print(\"encoded word\",encode)\n",
        "\n"
      ]
    },
    {
      "cell_type": "code",
      "source": [
        "def decodeWord(word,key):\n",
        "  ans=[]\n",
        "  for i in range(len(word)):\n",
        "    temp=word[i:i+len(key)]\n",
        "    if word[i]=='1' and i+len(key)<=len(word):\n",
        "      for j in range(len(key)):\n",
        "        ans.append(str(int(word[i+j])^int(key[j])))\n",
        "  \n",
        "  return all(x=='0' for x in ans)\n",
        "\n",
        "decode=decodeWord(encode,key)\n",
        "print(\"is correct code word:\",decode)"
      ],
      "metadata": {
        "colab": {
          "base_uri": "https://localhost:8080/"
        },
        "id": "ZM8ULXFOR2NF",
        "outputId": "e61341ea-a584-490d-88b7-d0aab9fabac3"
      },
      "execution_count": 2,
      "outputs": [
        {
          "output_type": "stream",
          "name": "stdout",
          "text": [
            "is correct code word: True\n"
          ]
        }
      ]
    },
    {
      "cell_type": "code",
      "source": [
        ""
      ],
      "metadata": {
        "id": "u-0h00IyexgW"
      },
      "execution_count": null,
      "outputs": []
    }
  ]
}